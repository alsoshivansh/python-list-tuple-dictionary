{
 "cells": [
  {
   "cell_type": "code",
   "execution_count": 1,
   "id": "8735a8f2",
   "metadata": {},
   "outputs": [],
   "source": [
    "mylist = [\"apple\", \"banana\", \"cherry\"]"
   ]
  },
  {
   "cell_type": "markdown",
   "id": "2aa2c5db",
   "metadata": {},
   "source": [
    "# List\n",
    "\n",
    "Lists are used to store multiple items in a single variable.\n",
    "\n",
    "Lists are one of 4 built-in data types in Python used to store collections of data, the other 3 are Tuple, Set, and Dictionary, all with different qualities and usage.\n",
    "\n",
    "Lists are created using square brackets:"
   ]
  },
  {
   "cell_type": "code",
   "execution_count": 2,
   "id": "e8fc1ff9",
   "metadata": {},
   "outputs": [
    {
     "name": "stdout",
     "output_type": "stream",
     "text": [
      "['apple', 'banana', 'cherry']\n"
     ]
    }
   ],
   "source": [
    "#Create a List:\n",
    "\n",
    "thislist = [\"apple\", \"banana\", \"cherry\"]\n",
    "print(thislist)"
   ]
  },
  {
   "cell_type": "markdown",
   "id": "3f0f3de6",
   "metadata": {},
   "source": [
    "# List Items\n",
    "\n",
    "List items are ordered, changeable, and allow duplicate values.\n",
    "\n",
    "List items are indexed, the first item has index [0], the second item has index [1] etc.\n",
    "\n",
    "# Ordered\n",
    "\n",
    "When we say that lists are ordered, it means that the items have a defined order, and that order will not change.\n",
    "\n",
    "If you add new items to a list, the new items will be placed at the end of the list.\n",
    "\n",
    "Note: There are some list methods that will change the order, but in general: the order of the items will not change.\n",
    "\n",
    "# Changeable\n",
    "\n",
    "The list is changeable, meaning that we can change, add, and remove items in a list after it has been created.\n",
    "\n",
    "# Allow Duplicates\n",
    "\n",
    "Since lists are indexed, lists can have items with the same value:"
   ]
  },
  {
   "cell_type": "code",
   "execution_count": 3,
   "id": "d0e2938d",
   "metadata": {},
   "outputs": [
    {
     "name": "stdout",
     "output_type": "stream",
     "text": [
      "['apple', 'banana', 'cherry', 'apple', 'cherry']\n"
     ]
    }
   ],
   "source": [
    "#Lists allow duplicate values:\n",
    "\n",
    "thislist = [\"apple\", \"banana\", \"cherry\", \"apple\", \"cherry\"]\n",
    "print(thislist)"
   ]
  },
  {
   "cell_type": "markdown",
   "id": "317db62d",
   "metadata": {},
   "source": [
    "# List Length\n",
    "\n",
    "To determine how many items a list has, use the len() function:"
   ]
  },
  {
   "cell_type": "code",
   "execution_count": 4,
   "id": "a08fd122",
   "metadata": {},
   "outputs": [
    {
     "name": "stdout",
     "output_type": "stream",
     "text": [
      "3\n"
     ]
    }
   ],
   "source": [
    "#Print the number of items in the list:\n",
    "\n",
    "thislist = [\"apple\", \"banana\", \"cherry\"]\n",
    "print(len(thislist))"
   ]
  },
  {
   "cell_type": "markdown",
   "id": "ce7a7bd3",
   "metadata": {},
   "source": [
    "# List Items - Data Types\n",
    "\n",
    "List items can be of any data type:"
   ]
  },
  {
   "cell_type": "code",
   "execution_count": 5,
   "id": "7ee4e262",
   "metadata": {},
   "outputs": [],
   "source": [
    "#String, int and boolean data types:\n",
    "\n",
    "list1 = [\"apple\", \"banana\", \"cherry\"]\n",
    "list2 = [1, 5, 7, 9, 3]\n",
    "list3 = [True, False, False]"
   ]
  },
  {
   "cell_type": "code",
   "execution_count": 6,
   "id": "915311c2",
   "metadata": {},
   "outputs": [],
   "source": [
    "#A list can contain different data types:\n",
    "#A list with strings, integers and boolean values:\n",
    "\n",
    "list1 = [\"abc\", 34, True, 40, \"male\"]"
   ]
  },
  {
   "cell_type": "markdown",
   "id": "d7726ddb",
   "metadata": {},
   "source": [
    "# type()\n",
    "\n",
    "From Python's perspective, lists are defined as objects with the data type 'list':"
   ]
  },
  {
   "cell_type": "code",
   "execution_count": 7,
   "id": "f5edf57c",
   "metadata": {},
   "outputs": [
    {
     "name": "stdout",
     "output_type": "stream",
     "text": [
      "<class 'list'>\n"
     ]
    }
   ],
   "source": [
    "#What is the data type of a list?\n",
    "\n",
    "mylist = [\"apple\", \"banana\", \"cherry\"]\n",
    "print(type(mylist))"
   ]
  },
  {
   "cell_type": "markdown",
   "id": "6af0eecc",
   "metadata": {},
   "source": [
    "# The list() \n",
    "\n",
    "It is also possible to use the list() constructor when creating a new list."
   ]
  },
  {
   "cell_type": "code",
   "execution_count": 8,
   "id": "4cf8be1e",
   "metadata": {},
   "outputs": [
    {
     "name": "stdout",
     "output_type": "stream",
     "text": [
      "['apple', 'banana', 'cherry']\n"
     ]
    }
   ],
   "source": [
    "thislist = list((\"apple\", \"banana\", \"cherry\")) # note the double round-brackets\n",
    "print(thislist)"
   ]
  },
  {
   "cell_type": "markdown",
   "id": "b3411063",
   "metadata": {},
   "source": [
    "# Python Collections (Arrays)\n",
    "\n",
    "There are four collection data types in the Python programming language:\n",
    "\n",
    "### List is a collection which is ordered and changeable. Allows duplicate members.\n",
    "### Tuple is a collection which is ordered and unchangeable. Allows duplicate members.\n",
    "### Set is a collection which is unordered, unchangeable*, and unindexed. No duplicate members.\n",
    "### Dictionary is a collection which is ordered** and changeable. No duplicate members."
   ]
  }
 ],
 "metadata": {
  "kernelspec": {
   "display_name": "Python 3 (ipykernel)",
   "language": "python",
   "name": "python3"
  },
  "language_info": {
   "codemirror_mode": {
    "name": "ipython",
    "version": 3
   },
   "file_extension": ".py",
   "mimetype": "text/x-python",
   "name": "python",
   "nbconvert_exporter": "python",
   "pygments_lexer": "ipython3",
   "version": "3.11.4"
  }
 },
 "nbformat": 4,
 "nbformat_minor": 5
}
